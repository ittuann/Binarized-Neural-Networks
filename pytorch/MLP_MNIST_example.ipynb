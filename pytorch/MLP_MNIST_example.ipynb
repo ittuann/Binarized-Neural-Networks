{
 "cells": [
  {
   "cell_type": "code",
   "id": "initial_id",
   "metadata": {
    "collapsed": true,
    "ExecuteTime": {
     "end_time": "2024-09-03T15:06:13.094900Z",
     "start_time": "2024-09-03T15:06:08.821635Z"
    }
   },
   "source": [
    "import torch\n",
    "from torch import nn\n",
    "from torch.utils.data import DataLoader\n",
    "from torchvision import datasets\n",
    "import torchvision.transforms as transforms\n",
    "\n",
    "from bnn_layers import BinarizeLinear\n",
    "\n",
    "device = \"cuda\" if torch.cuda.is_available() else \"cpu\"\n",
    "print(torch.__version__)"
   ],
   "outputs": [
    {
     "name": "stderr",
     "output_type": "stream",
     "text": [
      "C:\\Users\\lubai\\anaconda3\\envs\\pytorch\\lib\\site-packages\\transformers\\utils\\generic.py:441: UserWarning: torch.utils._pytree._register_pytree_node is deprecated. Please use torch.utils._pytree.register_pytree_node instead.\n",
      "  _torch_pytree._register_pytree_node(\n"
     ]
    },
    {
     "name": "stdout",
     "output_type": "stream",
     "text": [
      "2.2.0\n"
     ]
    }
   ],
   "execution_count": 1
  },
  {
   "cell_type": "code",
   "source": [
    "# hyper parameters\n",
    "\n",
    "# 训练参数\n",
    "batch_size = 256\n",
    "epochs = 10\n",
    "# learning rate\n",
    "lr_start = 1e-3\n",
    "loss_fn = nn.CrossEntropyLoss()"
   ],
   "metadata": {
    "collapsed": false,
    "ExecuteTime": {
     "end_time": "2024-09-03T15:06:13.110342Z",
     "start_time": "2024-09-03T15:06:13.095900Z"
    }
   },
   "id": "c0c0f5ef8ee2dc31",
   "outputs": [],
   "execution_count": 2
  },
  {
   "cell_type": "markdown",
   "source": [
    "# 导入 MNIST 数据集"
   ],
   "metadata": {
    "collapsed": false
   },
   "id": "173e05f80eae3cd8"
  },
  {
   "cell_type": "code",
   "source": [
    "# 图像预处理\n",
    "# 将图像从 [0.0, 1.0] 范围内的像素值转换到 [-1.0, 1.0]\n",
    "transform = transforms.ToTensor()\n",
    "\n",
    "training_data = datasets.MNIST(\n",
    "    root=\"data\",\n",
    "    train=True,\n",
    "    download=True,\n",
    "    transform=transform,\n",
    ")\n",
    "\n",
    "test_data = datasets.MNIST(\n",
    "    root=\"data\",\n",
    "    train=False,\n",
    "    download=True,\n",
    "    transform=transform,\n",
    ")"
   ],
   "metadata": {
    "collapsed": false,
    "ExecuteTime": {
     "end_time": "2024-09-03T15:06:13.171854Z",
     "start_time": "2024-09-03T15:06:13.112413Z"
    }
   },
   "id": "ce648b520b24a9e9",
   "outputs": [],
   "execution_count": 3
  },
  {
   "cell_type": "code",
   "source": [
    "# # 将dataset放入DataLoader数据加载器\n",
    "train_dataloader = DataLoader(training_data, batch_size=batch_size, shuffle=True)\n",
    "test_dataloader = DataLoader(test_data, batch_size=batch_size, shuffle=False)\n",
    "\n",
    "classes = (\n",
    "    \"plane\",\n",
    "    \"car\",\n",
    "    \"bird\",\n",
    "    \"cat\",\n",
    "    \"deer\",\n",
    "    \"dog\",\n",
    "    \"frog\",\n",
    "    \"horse\",\n",
    "    \"ship\",\n",
    "    \"truck\",\n",
    ")\n",
    "\n",
    "for X, y in test_dataloader:\n",
    "    # 分别代表批次大小（Number of samples in the batch）、通道数（Channels）、高度（Height）和宽度（Width）\n",
    "    print(f\"Shape of X [N, C, H, W]: {X.shape}\")\n",
    "    print(f\"Shape of y: {y.shape} {y.dtype}\")\n",
    "    break"
   ],
   "metadata": {
    "collapsed": false,
    "ExecuteTime": {
     "end_time": "2024-09-03T15:06:13.219123Z",
     "start_time": "2024-09-03T15:06:13.174326Z"
    }
   },
   "id": "b09e59a5ffd38263",
   "outputs": [
    {
     "name": "stdout",
     "output_type": "stream",
     "text": [
      "Shape of X [N, C, H, W]: torch.Size([256, 1, 28, 28])\n",
      "Shape of y: torch.Size([256]) torch.int64\n"
     ]
    }
   ],
   "execution_count": 4
  },
  {
   "cell_type": "markdown",
   "source": [
    "# 模型定义"
   ],
   "metadata": {
    "collapsed": false
   },
   "id": "59dd250bd82ff80"
  },
  {
   "cell_type": "code",
   "source": [
    "class Net(nn.Module):\n",
    "    def __init__(self):\n",
    "        super().__init__()\n",
    "        self.layers = nn.Sequential(\n",
    "            nn.Flatten(),\n",
    "            BinarizeLinear(28 * 28, 20, is_binarized_activation=False),\n",
    "            BinarizeLinear(20, 10),\n",
    "        )\n",
    "\n",
    "    def forward(self, x):\n",
    "        output = self.layers(x)\n",
    "        return output"
   ],
   "metadata": {
    "collapsed": false,
    "ExecuteTime": {
     "end_time": "2024-09-03T15:06:13.234521Z",
     "start_time": "2024-09-03T15:06:13.222543Z"
    }
   },
   "id": "1fbfffcb7ae8ed3",
   "outputs": [],
   "execution_count": 5
  },
  {
   "cell_type": "code",
   "source": [
    "# 构建模型。并移至CUDA\n",
    "model = Net().to(device)\n",
    "print(model)"
   ],
   "metadata": {
    "collapsed": false,
    "ExecuteTime": {
     "end_time": "2024-09-03T15:06:13.375150Z",
     "start_time": "2024-09-03T15:06:13.236998Z"
    }
   },
   "id": "fac0475d722cb9da",
   "outputs": [
    {
     "name": "stdout",
     "output_type": "stream",
     "text": [
      "Net(\n",
      "  (layers): Sequential(\n",
      "    (0): Flatten(start_dim=1, end_dim=-1)\n",
      "    (1): BinarizeLinear(in_features=784, out_features=20, bias=False)\n",
      "    (2): BinarizeLinear(in_features=20, out_features=10, bias=False)\n",
      "  )\n",
      ")\n"
     ]
    }
   ],
   "execution_count": 6
  },
  {
   "cell_type": "markdown",
   "source": [
    "# 模型训练"
   ],
   "metadata": {
    "collapsed": false
   },
   "id": "df2244497befc427"
  },
  {
   "cell_type": "code",
   "source": [
    "def train(dataloader, model, loss_fn, optimizer):\n",
    "    # 设置模型为训练模式，以启用参数更新\n",
    "    model.train()\n",
    "    for batch, (X, y) in enumerate(dataloader):\n",
    "        # 将数据移至CUDA\n",
    "        X, y = X.to(device), y.to(device)\n",
    "\n",
    "        # 前向传播\n",
    "        ## 计算模型output输出\n",
    "        pred = model(X)\n",
    "        ## 计算损失值\n",
    "        loss = loss_fn(pred, y)\n",
    "\n",
    "        # 反向传播\n",
    "        ## 计算梯度\n",
    "        loss.backward()\n",
    "        ## 使用optimizer，，基于之前计算得到的梯度，更新模型权重Weights和偏置Biases\n",
    "        optimizer.step()\n",
    "        ## 清零梯度。避免梯度累积的问题。为下一次迭代准备\n",
    "        optimizer.zero_grad()\n",
    "\n",
    "        # 每100个批次打印一次损失信息\n",
    "        if batch % 100 == 0:\n",
    "            size = len(dataloader.dataset)  # 数据集总大小\n",
    "            loss = loss.item()\n",
    "            current = (batch + 1) * len(X)  # 目前为止处理过的数据总量。len(X) 是当前批次数据的数量\n",
    "            print(f\"loss: {loss:>7f}  [{current:>5d}/{size:>5d}]\")"
   ],
   "metadata": {
    "collapsed": false,
    "ExecuteTime": {
     "end_time": "2024-09-03T15:06:13.390679Z",
     "start_time": "2024-09-03T15:06:13.377658Z"
    }
   },
   "id": "2ceb0ec10aef91f7",
   "outputs": [],
   "execution_count": 7
  },
  {
   "cell_type": "code",
   "source": [
    "def test(dataloader, model, loss_fn):\n",
    "    # 数据集总大小\n",
    "    size = len(dataloader.dataset)\n",
    "    # 批次总数\n",
    "    num_batches = len(dataloader)\n",
    "    # 将模型设置成评估模式。这样不会更新参数。\n",
    "    model.eval()\n",
    "    test_loss, correct = 0, 0\n",
    "    # 在评估时，禁用梯度计算。减少计算和内存消耗\n",
    "    with torch.no_grad():\n",
    "        for X, y in dataloader:\n",
    "            X, y = X.to(device), y.to(device)\n",
    "            pred = model(X)\n",
    "            # 累加批次的损失值\n",
    "            test_loss += loss_fn(pred, y).item()\n",
    "            # 累加正确预测的数量\n",
    "            correct += (pred.argmax(1) == y).type(torch.float).sum().item()\n",
    "    test_loss /= num_batches  # 计算平均损失\n",
    "    correct /= size  # 计算准确率\n",
    "    print(\n",
    "        f\"Test Error: \\n Accuracy: {(100*correct):>0.1f}%, Avg loss: {test_loss:>8f} \\n\"\n",
    "    )"
   ],
   "metadata": {
    "collapsed": false,
    "ExecuteTime": {
     "end_time": "2024-09-03T15:06:13.406481Z",
     "start_time": "2024-09-03T15:06:13.393200Z"
    }
   },
   "id": "2357b839061ee043",
   "outputs": [],
   "execution_count": 8
  },
  {
   "cell_type": "code",
   "source": "optimizer = torch.optim.Adam(model.parameters(), lr=lr_start)",
   "metadata": {
    "collapsed": false,
    "ExecuteTime": {
     "end_time": "2024-09-03T15:06:13.422590Z",
     "start_time": "2024-09-03T15:06:13.409106Z"
    }
   },
   "id": "d438de9edb86e596",
   "outputs": [],
   "execution_count": 9
  },
  {
   "cell_type": "code",
   "source": [
    "for t in range(epochs):\n",
    "    print(f\"Epoch {t+1}\\n-------------------------------\")\n",
    "    train(train_dataloader, model, loss_fn, optimizer)\n",
    "    test(test_dataloader, model, loss_fn)"
   ],
   "metadata": {
    "collapsed": false,
    "ExecuteTime": {
     "end_time": "2024-09-03T15:07:22.190770Z",
     "start_time": "2024-09-03T15:06:13.423590Z"
    }
   },
   "id": "fd07f0a64c8b5510",
   "outputs": [
    {
     "name": "stdout",
     "output_type": "stream",
     "text": [
      "Epoch 1\n",
      "-------------------------------\n",
      "loss: 6.439171  [  256/60000]\n",
      "loss: 0.949076  [25856/60000]\n",
      "loss: 0.997286  [51456/60000]\n",
      "Test Error: \n",
      " Accuracy: 76.3%, Avg loss: 0.769493 \n",
      "\n",
      "Epoch 2\n",
      "-------------------------------\n",
      "loss: 0.936751  [  256/60000]\n",
      "loss: 0.917794  [25856/60000]\n",
      "loss: 0.631150  [51456/60000]\n",
      "Test Error: \n",
      " Accuracy: 79.5%, Avg loss: 0.711927 \n",
      "\n",
      "Epoch 3\n",
      "-------------------------------\n",
      "loss: 0.645477  [  256/60000]\n",
      "loss: 0.692262  [25856/60000]\n",
      "loss: 0.806472  [51456/60000]\n",
      "Test Error: \n",
      " Accuracy: 78.0%, Avg loss: 0.758508 \n",
      "\n",
      "Epoch 4\n",
      "-------------------------------\n",
      "loss: 0.950614  [  256/60000]\n",
      "loss: 0.887840  [25856/60000]\n",
      "loss: 0.564849  [51456/60000]\n",
      "Test Error: \n",
      " Accuracy: 76.8%, Avg loss: 0.781680 \n",
      "\n",
      "Epoch 5\n",
      "-------------------------------\n",
      "loss: 0.866059  [  256/60000]\n",
      "loss: 0.736498  [25856/60000]\n",
      "loss: 0.836463  [51456/60000]\n",
      "Test Error: \n",
      " Accuracy: 80.7%, Avg loss: 0.636810 \n",
      "\n",
      "Epoch 6\n",
      "-------------------------------\n",
      "loss: 0.572466  [  256/60000]\n",
      "loss: 0.718001  [25856/60000]\n",
      "loss: 0.640140  [51456/60000]\n",
      "Test Error: \n",
      " Accuracy: 80.0%, Avg loss: 0.678256 \n",
      "\n",
      "Epoch 7\n",
      "-------------------------------\n",
      "loss: 0.812419  [  256/60000]\n",
      "loss: 0.605147  [25856/60000]\n",
      "loss: 0.618129  [51456/60000]\n",
      "Test Error: \n",
      " Accuracy: 83.9%, Avg loss: 0.614191 \n",
      "\n",
      "Epoch 8\n",
      "-------------------------------\n",
      "loss: 0.768608  [  256/60000]\n",
      "loss: 0.671366  [25856/60000]\n",
      "loss: 0.757984  [51456/60000]\n",
      "Test Error: \n",
      " Accuracy: 81.6%, Avg loss: 0.705783 \n",
      "\n",
      "Epoch 9\n",
      "-------------------------------\n",
      "loss: 0.673654  [  256/60000]\n",
      "loss: 0.785168  [25856/60000]\n",
      "loss: 0.590579  [51456/60000]\n",
      "Test Error: \n",
      " Accuracy: 84.6%, Avg loss: 0.568187 \n",
      "\n",
      "Epoch 10\n",
      "-------------------------------\n",
      "loss: 0.552670  [  256/60000]\n",
      "loss: 0.557200  [25856/60000]\n",
      "loss: 0.620626  [51456/60000]\n",
      "Test Error: \n",
      " Accuracy: 83.8%, Avg loss: 0.599574 \n",
      "\n"
     ]
    }
   ],
   "execution_count": 10
  }
 ],
 "metadata": {
  "kernelspec": {
   "display_name": "Python 3",
   "language": "python",
   "name": "python3"
  },
  "language_info": {
   "codemirror_mode": {
    "name": "ipython",
    "version": 2
   },
   "file_extension": ".py",
   "mimetype": "text/x-python",
   "name": "python",
   "nbconvert_exporter": "python",
   "pygments_lexer": "ipython2",
   "version": "2.7.6"
  }
 },
 "nbformat": 4,
 "nbformat_minor": 5
}
